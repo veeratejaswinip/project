{
 "cells": [
  {
   "cell_type": "code",
   "execution_count": 11,
   "id": "94c505da-a2c8-44c2-af7c-fea3d8d2734c",
   "metadata": {},
   "outputs": [
    {
     "name": "stdout",
     "output_type": "stream",
     "text": [
      "Order-level risk analysis completed.\n",
      "Dataset with risk flags saved to 'order_risk_analysis.csv'\n",
      "\n",
      "Risk Summary:\n",
      "- 5052 orders with high-risk products\n",
      "- 10000 orders in high-risk categories\n",
      "- 5480 high-value orders\n",
      "- 10000 total high-risk orders identified\n",
      "- 2565 fast returns (within 7 days)\n",
      "- 1327 defective product returns\n"
     ]
    }
   ],
   "source": [
    "import pandas as pd\n",
    "\n",
    "# Load the dataset\n",
    "df = pd.read_csv(r'C:\\Users\\TEJASWINI\\Desktop\\ecommerce.csv')\n",
    "# Calculate return statistics for each product\n",
    "product_stats = df.groupby('Product_ID').agg(\n",
    "    total_orders=('Order_ID', 'count'),\n",
    "    returns=('Return_Status', lambda x: (x == 'Returned').sum())\n",
    ")\n",
    "product_stats['product_return_rate'] = product_stats['returns'] / product_stats['total_orders']\n",
    "\n",
    "# Calculate return statistics for each product category\n",
    "category_stats = df.groupby('Product_Category').agg(\n",
    "    total_orders=('Order_ID', 'count'),\n",
    "    returns=('Return_Status', lambda x: (x == 'Returned').sum())\n",
    ")\n",
    "category_stats['category_return_rate'] = category_stats['returns'] / category_stats['total_orders']\n",
    "\n",
    "# Merge product and category stats back to original data\n",
    "df = df.merge(product_stats['product_return_rate'], on='Product_ID', how='left')\n",
    "df = df.merge(category_stats['category_return_rate'], on='Product_Category', how='left')\n",
    "\n",
    "# Define risk flags for each order\n",
    "df['high_risk_product'] = df['product_return_rate'] >= 0.3  # 30% return rate threshold for product\n",
    "df['high_risk_category'] = df['category_return_rate'] >= 0.25  # 25% return rate threshold for category\n",
    "df['high_value_order'] = (df['Product_Price'] * df['Order_Quantity']) >= 500  # $500+ order value threshold\n",
    "df['high_risk_order'] = df['high_risk_product'] | df['high_risk_category'] | df['high_value_order']\n",
    "\n",
    "# Add additional risk indicators\n",
    "df['fast_return'] = (df['Days_to_Return'] <= 7) & (df['Return_Status'] == 'Returned')  # Returned within 7 days\n",
    "df['defective_return'] = (df['Return_Reason'] == 'Defective') & (df['Return_Status'] == 'Returned')\n",
    "\n",
    "# Save the enhanced dataset with risk flags\n",
    "df.to_csv('order_risk_analysis.csv', index=False)\n",
    "\n",
    "print(\"Order-level risk analysis completed.\")\n",
    "print(f\"Dataset with risk flags saved to 'order_risk_analysis.csv'\")\n",
    "print(\"\\nRisk Summary:\")\n",
    "print(f\"- {df['high_risk_product'].sum()} orders with high-risk products\")\n",
    "print(f\"- {df['high_risk_category'].sum()} orders in high-risk categories\")\n",
    "print(f\"- {df['high_value_order'].sum()} high-value orders\")\n",
    "print(f\"- {df['high_risk_order'].sum()} total high-risk orders identified\")\n",
    "print(f\"- {df['fast_return'].sum()} fast returns (within 7 days)\")\n",
    "print(f\"- {df['defective_return'].sum()} defective product returns\")"
   ]
  },
  {
   "cell_type": "code",
   "execution_count": null,
   "id": "70a2c44d-fa52-44c2-8892-120e7e9ab1c2",
   "metadata": {},
   "outputs": [],
   "source": []
  }
 ],
 "metadata": {
  "kernelspec": {
   "display_name": "Python 3 (ipykernel)",
   "language": "python",
   "name": "python3"
  },
  "language_info": {
   "codemirror_mode": {
    "name": "ipython",
    "version": 3
   },
   "file_extension": ".py",
   "mimetype": "text/x-python",
   "name": "python",
   "nbconvert_exporter": "python",
   "pygments_lexer": "ipython3",
   "version": "3.12.4"
  }
 },
 "nbformat": 4,
 "nbformat_minor": 5
}
